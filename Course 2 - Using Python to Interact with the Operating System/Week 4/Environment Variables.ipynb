{
 "cells": [
  {
   "cell_type": "code",
   "execution_count": 1,
   "metadata": {},
   "outputs": [
    {
     "name": "stdout",
     "output_type": "stream",
     "text": [
      "HOME: /Users/paolodavid\n",
      "SHELL: /bin/bash\n",
      "FRUIT: \n"
     ]
    }
   ],
   "source": [
    "# os module provides environ dictionary\n",
    "import os\n",
    "\n",
    "# environ variables allows us to access environment variables\n",
    "# get function specifies a default value when the key that we're looking for isn't in the dictionary\n",
    "print(\"HOME: \" + os.environ.get(\"HOME\", \"\"))\n",
    "print(\"SHELL: \" + os.environ.get(\"SHELL\", \"\"))\n",
    "\n",
    "export FRUIT=Pineapple\n",
    "print(\"FRUIT: \" + os.environ.get(\"FRUIT\", \"\"))"
   ]
  },
  {
   "cell_type": "code",
   "execution_count": null,
   "metadata": {},
   "outputs": [],
   "source": []
  }
 ],
 "metadata": {
  "kernelspec": {
   "display_name": "Python 3",
   "language": "python",
   "name": "python3"
  },
  "language_info": {
   "codemirror_mode": {
    "name": "ipython",
    "version": 3
   },
   "file_extension": ".py",
   "mimetype": "text/x-python",
   "name": "python",
   "nbconvert_exporter": "python",
   "pygments_lexer": "ipython3",
   "version": "3.7.4"
  }
 },
 "nbformat": 4,
 "nbformat_minor": 2
}
