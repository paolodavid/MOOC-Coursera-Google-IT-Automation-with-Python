{
 "cells": [
  {
   "cell_type": "code",
   "execution_count": 1,
   "metadata": {},
   "outputs": [
    {
     "name": "stdout",
     "output_type": "stream",
     "text": [
      "['/opt/anaconda3/lib/python3.7/site-packages/ipykernel_launcher.py', '-f', '/Users/paolodavid/Library/Jupyter/runtime/kernel-f1ca8af3-63a5-4567-8034-8edfb67009a2.json']\n"
     ]
    }
   ],
   "source": [
    "import sys\n",
    "print(sys.argv)\n",
    "\n",
    "import os\n",
    "\n",
    "# Receives a file name as a command line argument\n",
    "# filename = sys.argv[0]\n",
    "\n",
    "# Checks whether the file name exist or not\n",
    "# When the file doesn't exist, it creates it by writing a line to it\n",
    "# if not os.path.exists(filename):\n",
    "#      with open(filename, \"w\") as f:\n",
    "#          f.write(\"New file created\\n\")\n",
    "# When the file exist, our script print an error message and exits with an exit value of one\n",
    "# else:\n",
    "#     print(\"Error, the file {} already exists!\".format(filename))\n",
    "#     sys.exit(1)"
   ]
  },
  {
   "cell_type": "code",
   "execution_count": null,
   "metadata": {},
   "outputs": [],
   "source": []
  }
 ],
 "metadata": {
  "kernelspec": {
   "display_name": "Python 3",
   "language": "python",
   "name": "python3"
  },
  "language_info": {
   "codemirror_mode": {
    "name": "ipython",
    "version": 3
   },
   "file_extension": ".py",
   "mimetype": "text/x-python",
   "name": "python",
   "nbconvert_exporter": "python",
   "pygments_lexer": "ipython3",
   "version": "3.7.4"
  }
 },
 "nbformat": 4,
 "nbformat_minor": 2
}
