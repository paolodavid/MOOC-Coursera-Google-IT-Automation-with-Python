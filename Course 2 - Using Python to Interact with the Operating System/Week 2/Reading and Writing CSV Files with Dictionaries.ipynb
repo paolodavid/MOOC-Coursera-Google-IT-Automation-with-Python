{
 "cells": [
  {
   "cell_type": "code",
   "execution_count": 3,
   "metadata": {},
   "outputs": [
    {
     "name": "stdout",
     "output_type": "stream",
     "text": [
      "MailTree has 324 users\n",
      "CalDoor has 22 users\n"
     ]
    }
   ],
   "source": [
    "import csv\n",
    "# Reading and Writing CSV Files with Dictionaries\n",
    "# DictReader turns each row of the data in a CSV file into a dictionary\n",
    "with open (\"software.csv\") as software:\n",
    "    reader = csv.DictReader(software)\n",
    "    for row in reader:\n",
    "        print(\"{} has {} users\".format(row[\"name\"], row[\"users\"]))"
   ]
  },
  {
   "cell_type": "code",
   "execution_count": 4,
   "metadata": {},
   "outputs": [],
   "source": [
    "# DictWriter generates a CSV file from the contents of a list of dictionaries\n",
    "users = [{\"name\": \"Sol Mansi\", \"username\": \"solm\", \"department\": \"IT infrastructure\"},\n",
    "{\"name\": \"Lio Nelson\", \"username\": \"lion\", \"department\": \"User Experience Research\"},\n",
    "{\"name\": \"Charlie Grey\", \"username\": \"greyc\", \"department\": \"Development\" }]"
   ]
  },
  {
   "cell_type": "code",
   "execution_count": 5,
   "metadata": {},
   "outputs": [],
   "source": [
    "keys = [\"name\", \"username\", \"department\"]"
   ]
  },
  {
   "cell_type": "code",
   "execution_count": 7,
   "metadata": {},
   "outputs": [],
   "source": [
    "with open(\"by_department.csv\", \"w\") as by_department:\n",
    "    writer = csv.DictWriter(by_department, fieldnames=keys)\n",
    "    writer.writeheader()\n",
    "    writer.writerows(users)"
   ]
  },
  {
   "cell_type": "code",
   "execution_count": null,
   "metadata": {},
   "outputs": [],
   "source": []
  }
 ],
 "metadata": {
  "kernelspec": {
   "display_name": "Python 3",
   "language": "python",
   "name": "python3"
  },
  "language_info": {
   "codemirror_mode": {
    "name": "ipython",
    "version": 3
   },
   "file_extension": ".py",
   "mimetype": "text/x-python",
   "name": "python",
   "nbconvert_exporter": "python",
   "pygments_lexer": "ipython3",
   "version": "3.7.4"
  }
 },
 "nbformat": 4,
 "nbformat_minor": 2
}
