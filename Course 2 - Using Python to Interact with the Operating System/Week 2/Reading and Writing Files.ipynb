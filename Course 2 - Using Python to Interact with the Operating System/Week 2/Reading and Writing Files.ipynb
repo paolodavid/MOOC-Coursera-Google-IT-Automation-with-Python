{
 "cells": [
  {
   "cell_type": "code",
   "execution_count": 2,
   "metadata": {},
   "outputs": [],
   "source": [
    "# Reading and Writing Files\n",
    "# Creates a new file object and assigning it to a variable called file\n",
    "# Current line assumes that the spider.txt file is in the same directory\n",
    "file = open(\"spider.txt\")"
   ]
  },
  {
   "cell_type": "code",
   "execution_count": 3,
   "metadata": {},
   "outputs": [
    {
     "name": "stdout",
     "output_type": "stream",
     "text": [
      "Incy Wincy spider went up the water spout\n",
      "\n"
     ]
    }
   ],
   "source": [
    "# readline method reads a single line of a file\n",
    "print(file.readline())"
   ]
  },
  {
   "cell_type": "code",
   "execution_count": 4,
   "metadata": {},
   "outputs": [
    {
     "name": "stdout",
     "output_type": "stream",
     "text": [
      "Down came the rain and washed the spider out\n",
      "\n"
     ]
    }
   ],
   "source": [
    "# readline method reads the second line of a file - each time the readline method is called, the file object updates the current position in the file\n",
    "print(file.readline())"
   ]
  },
  {
   "cell_type": "code",
   "execution_count": 5,
   "metadata": {},
   "outputs": [
    {
     "name": "stdout",
     "output_type": "stream",
     "text": [
      "Out came the sun and dried up all the rain\n",
      "So, Incy Wincy spider went up the water spout again\n",
      "\n",
      "Incy Wincy spider went up the water spout\n",
      "Down came the rain and washed the spider out\n",
      "Out came the sun and dried up all the rain\n",
      "So, Incy Wincy spider went up the water spout again\n",
      "\n",
      "Incy Wincy spider went up the water spout\n",
      "Down came the rain and washed the spider out\n",
      "Out came the sun and dried up all the rain\n",
      "So, Incy Wincy spider went up the water spout again\n",
      "\n"
     ]
    }
   ],
   "source": [
    "# read method, which reads from the current position until the end of the file instead of just one line\n",
    "print(file.read())"
   ]
  },
  {
   "cell_type": "code",
   "execution_count": 6,
   "metadata": {},
   "outputs": [],
   "source": [
    "# Opened file needs to be closed to conform the open-close approach\n",
    "file.close()"
   ]
  },
  {
   "cell_type": "code",
   "execution_count": 8,
   "metadata": {},
   "outputs": [
    {
     "name": "stdout",
     "output_type": "stream",
     "text": [
      "Incy Wincy spider went up the water spout\n",
      "\n"
     ]
    }
   ],
   "source": [
    "# \"with\" keyword creates a block of code with the work that needs to be done with the file inside of it\n",
    "# When \"with\" block is used, Python will automatically close the file\n",
    "with open(\"spider.txt\") as file:\n",
    "    print(file.readline())"
   ]
  },
  {
   "cell_type": "code",
   "execution_count": 10,
   "metadata": {},
   "outputs": [
    {
     "name": "stdout",
     "output_type": "stream",
     "text": [
      "INCY WINCY SPIDER WENT UP THE WATER SPOUT\n",
      "\n",
      "DOWN CAME THE RAIN AND WASHED THE SPIDER OUT\n",
      "\n",
      "OUT CAME THE SUN AND DRIED UP ALL THE RAIN\n",
      "\n",
      "SO, INCY WINCY SPIDER WENT UP THE WATER SPOUT AGAIN\n",
      "\n",
      "\n",
      "\n",
      "INCY WINCY SPIDER WENT UP THE WATER SPOUT\n",
      "\n",
      "DOWN CAME THE RAIN AND WASHED THE SPIDER OUT\n",
      "\n",
      "OUT CAME THE SUN AND DRIED UP ALL THE RAIN\n",
      "\n",
      "SO, INCY WINCY SPIDER WENT UP THE WATER SPOUT AGAIN\n",
      "\n",
      "\n",
      "\n",
      "INCY WINCY SPIDER WENT UP THE WATER SPOUT\n",
      "\n",
      "DOWN CAME THE RAIN AND WASHED THE SPIDER OUT\n",
      "\n",
      "OUT CAME THE SUN AND DRIED UP ALL THE RAIN\n",
      "\n",
      "SO, INCY WINCY SPIDER WENT UP THE WATER SPOUT AGAIN\n",
      "\n"
     ]
    }
   ],
   "source": [
    "# Iterates the file object like list or strings\n",
    "# The file has a new line character at the end of each line\n",
    "# When Python reads the file line by line, the line variable will always have a new line character at the end\n",
    "with open(\"spider.txt\") as file:\n",
    "    for line in file:\n",
    "        print(line.upper())"
   ]
  },
  {
   "cell_type": "code",
   "execution_count": null,
   "metadata": {},
   "outputs": [],
   "source": [
    "# Empty lines can be avoided by using strip method\n",
    "with open(\"using-python-to-interact-with-the-operating-system/week-two/spider.txt\") as file:\n",
    "    for line in file:\n",
    "        print(line.strip().upper())"
   ]
  }
 ],
 "metadata": {
  "kernelspec": {
   "display_name": "Python 3",
   "language": "python",
   "name": "python3"
  },
  "language_info": {
   "codemirror_mode": {
    "name": "ipython",
    "version": 3
   },
   "file_extension": ".py",
   "mimetype": "text/x-python",
   "name": "python",
   "nbconvert_exporter": "python",
   "pygments_lexer": "ipython3",
   "version": "3.7.4"
  }
 },
 "nbformat": 4,
 "nbformat_minor": 2
}
