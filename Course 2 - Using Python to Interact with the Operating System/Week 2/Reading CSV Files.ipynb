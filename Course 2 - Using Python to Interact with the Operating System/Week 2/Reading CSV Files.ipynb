{
 "cells": [
  {
   "cell_type": "code",
   "execution_count": 1,
   "metadata": {},
   "outputs": [],
   "source": [
    "# Reading CSV Files\n",
    "import csv\n",
    "f = open(\"csv_file.txt\")"
   ]
  },
  {
   "cell_type": "code",
   "execution_count": 2,
   "metadata": {},
   "outputs": [
    {
     "name": "stdout",
     "output_type": "stream",
     "text": [
      "Name: Sabrina Green, Phone: 802-867-5309, Role: System Admin\n",
      "Name: Eli Jones, Phone: 684-348-1127, Role: IT Specialist\n"
     ]
    }
   ],
   "source": [
    "# parses the file using the CSV module\n",
    "csv_f = csv.reader(f)\n",
    "for row in csv_f:\n",
    "    # unpakcs the value from the CSV file\n",
    "    name, phone, role = row\n",
    "    print(\"Name: {}, Phone: {}, Role: {}\".format(name, phone, role))\n",
    "f.close()"
   ]
  },
  {
   "cell_type": "code",
   "execution_count": null,
   "metadata": {},
   "outputs": [],
   "source": []
  }
 ],
 "metadata": {
  "kernelspec": {
   "display_name": "Python 3",
   "language": "python",
   "name": "python3"
  },
  "language_info": {
   "codemirror_mode": {
    "name": "ipython",
    "version": 3
   },
   "file_extension": ".py",
   "mimetype": "text/x-python",
   "name": "python",
   "nbconvert_exporter": "python",
   "pygments_lexer": "ipython3",
   "version": "3.7.4"
  }
 },
 "nbformat": 4,
 "nbformat_minor": 2
}
