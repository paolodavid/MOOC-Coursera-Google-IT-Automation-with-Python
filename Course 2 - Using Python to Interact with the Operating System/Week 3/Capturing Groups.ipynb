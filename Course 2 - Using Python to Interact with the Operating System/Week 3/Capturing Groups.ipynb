{
 "cells": [
  {
   "cell_type": "code",
   "execution_count": 1,
   "metadata": {},
   "outputs": [
    {
     "name": "stdout",
     "output_type": "stream",
     "text": [
      "<re.Match object; span=(0, 13), match='Lovelace, Ada'>\n"
     ]
    }
   ],
   "source": [
    "# Advanced Regular Expressions\n",
    "import re\n",
    "# Use parentheses to capture groups which are portions of the pattern that are enclosed in\n",
    "# Below line defines two separate groups\n",
    "result = re.search(r\"^(\\w*), (\\w*)$\", \"Lovelace, Ada\")\n",
    "print(result)"
   ]
  },
  {
   "cell_type": "code",
   "execution_count": 2,
   "metadata": {},
   "outputs": [
    {
     "name": "stdout",
     "output_type": "stream",
     "text": [
      "('Lovelace', 'Ada')\n"
     ]
    }
   ],
   "source": [
    "# The group method returns a tuple of two elements\n",
    "print(result.groups())"
   ]
  },
  {
   "cell_type": "code",
   "execution_count": 3,
   "metadata": {},
   "outputs": [
    {
     "name": "stdout",
     "output_type": "stream",
     "text": [
      "Lovelace, Ada\n",
      "Lovelace\n",
      "Ada\n",
      "Ada Lovelace\n"
     ]
    }
   ],
   "source": [
    "# Use indexing to access these groups\n",
    "# The first element contains the text matched by the entire regular expression\n",
    "# Each successive element contains the data that was matched by every subsequent match group\n",
    "print(result[0])\n",
    "print(result[1])\n",
    "print(result[2])\n",
    "print(\"{} {}\".format(result[2], result[1]))"
   ]
  },
  {
   "cell_type": "code",
   "execution_count": 4,
   "metadata": {},
   "outputs": [
    {
     "name": "stdout",
     "output_type": "stream",
     "text": [
      "Ada Lovelace\n",
      "Dennis Ritchie\n",
      "Hopper, Grace M.\n"
     ]
    }
   ],
   "source": [
    "def rearrange_name(name):\n",
    "    result = re.search(r\"^(\\w*), (\\w*)$\", name)\n",
    "    if result is None:\n",
    "        return print(name)\n",
    "    return print(\"{} {}\".format(result[2], result[1]))\n",
    "\n",
    "rearrange_name(\"Lovelace, Ada\")\n",
    "rearrange_name(\"Ritchie, Dennis\")\n",
    "rearrange_name(\"Hopper, Grace M.\")"
   ]
  },
  {
   "cell_type": "code",
   "execution_count": 5,
   "metadata": {},
   "outputs": [
    {
     "name": "stdout",
     "output_type": "stream",
     "text": [
      "Grace M. Hopper\n"
     ]
    }
   ],
   "source": [
    "def rearrange_name_updated(name):\n",
    "    result = re.search(r\"^([\\w \\.-]*), ([\\w \\.-]*)$\", name)\n",
    "    if result is None:\n",
    "        return print(name)\n",
    "    return print(\"{} {}\".format(result[2], result[1]))\n",
    "\n",
    "rearrange_name_updated(\"Hopper, Grace M.\")"
   ]
  },
  {
   "cell_type": "code",
   "execution_count": null,
   "metadata": {},
   "outputs": [],
   "source": []
  }
 ],
 "metadata": {
  "kernelspec": {
   "display_name": "Python 3",
   "language": "python",
   "name": "python3"
  },
  "language_info": {
   "codemirror_mode": {
    "name": "ipython",
    "version": 3
   },
   "file_extension": ".py",
   "mimetype": "text/x-python",
   "name": "python",
   "nbconvert_exporter": "python",
   "pygments_lexer": "ipython3",
   "version": "3.7.4"
  }
 },
 "nbformat": 4,
 "nbformat_minor": 2
}
